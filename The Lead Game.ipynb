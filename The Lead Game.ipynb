{
 "cells": [
  {
   "cell_type": "code",
   "execution_count": null,
   "id": "a386c87b",
   "metadata": {},
   "outputs": [],
   "source": [
    "n=int(input())\n",
    "score1=0\n",
    "score2=0\n",
    "lead=0\n",
    "for i in range(n):\n",
    "    player1_score,player2_score=map(int,input().split())\n",
    "    score1=score1+player1_score\n",
    "    score2=score2+player2_score\n",
    "    diff=score1-score2\n",
    "    if diff>0 and diff>lead:\n",
    "        lead=diff\n",
    "        leader=1\n",
    "    elif diff<0 and abs(diff)>lead:\n",
    "        lead=abs(diff)\n",
    "        leader=2\n",
    "\n",
    "print(leader,lead)"
   ]
  },
  {
   "cell_type": "code",
   "execution_count": null,
   "id": "fa2ae699",
   "metadata": {},
   "outputs": [],
   "source": []
  }
 ],
 "metadata": {
  "kernelspec": {
   "display_name": "Python 3 (ipykernel)",
   "language": "python",
   "name": "python3"
  },
  "language_info": {
   "codemirror_mode": {
    "name": "ipython",
    "version": 3
   },
   "file_extension": ".py",
   "mimetype": "text/x-python",
   "name": "python",
   "nbconvert_exporter": "python",
   "pygments_lexer": "ipython3",
   "version": "3.9.7"
  }
 },
 "nbformat": 4,
 "nbformat_minor": 5
}
